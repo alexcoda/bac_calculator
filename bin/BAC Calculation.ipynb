{
 "cells": [
  {
   "cell_type": "code",
   "execution_count": 2,
   "metadata": {
    "collapsed": false
   },
   "outputs": [],
   "source": [
    "%matplotlib inline\n",
    "\n",
    "import matplotlib.pyplot as plt\n",
    "import numpy as np\n",
    "import pandas as pd\n",
    "from datetime import datetime\n",
    "import numericalunits as nu\n",
    "\n",
    "# local imports\n",
    "from context import bac\n",
    "reload(bac)\n",
    "\n",
    "Person = bac.Person\n",
    "Drink = bac.Drink"
   ]
  },
  {
   "cell_type": "code",
   "execution_count": 3,
   "metadata": {
    "collapsed": true
   },
   "outputs": [],
   "source": [
    "# Some Drinks\n",
    "ufo = Drink(\"UFO\", 12, 4.8)\n",
    "busch_heavy = Drink(\"BH\", 40, 4.3)\n",
    "jmh = Drink(\"Jamaican Me Happy\", 12, 3.2)\n",
    "kank_tall = Drink(\"Kank Tall Maple Porter\", 16, 5.6)\n",
    "shot = Drink(\"Shot\", 1.25, 40.0)\n",
    "water = Drink(\"Water\", 12, 0.0)\n",
    "angry = Drink(\"Angry Orchard\", 12, 5.0)\n",
    "downeast = Drink(\"Downeast\", 12, 5.0)\n",
    "rum = Drink(\"Bacardi\", 1.5, 40.0)\n",
    "half_rum = Drink(\"Bacardi\", 0.75, 40.0)\n",
    "sam_adams = Drink(\"Fresh as Helles\", 12, 5.4)"
   ]
  },
  {
   "cell_type": "code",
   "execution_count": 4,
   "metadata": {
    "collapsed": true
   },
   "outputs": [],
   "source": [
    "# Some People\n",
    "alex_coda = Person(\"Alex Coda\", 23, 140)\n",
    "alex_crist = Person(\"Alex Crist\", 21, 165)\n",
    "noah = Person(\"Noah Johnson\", 21, 120)\n",
    "malcolm = Person(\"Malcolm\", 21, 145)"
   ]
  },
  {
   "cell_type": "code",
   "execution_count": 5,
   "metadata": {
    "collapsed": true
   },
   "outputs": [],
   "source": [
    "alex_coda.drink(drink=shot)\n",
    "alex_coda.drink(drink=ufo)"
   ]
  },
  {
   "cell_type": "code",
   "execution_count": 6,
   "metadata": {
    "collapsed": false
   },
   "outputs": [
    {
     "data": {
      "text/html": [
       "<div>\n",
       "<table border=\"1\" class=\"dataframe\">\n",
       "  <thead>\n",
       "    <tr style=\"text-align: right;\">\n",
       "      <th></th>\n",
       "      <th>Drink</th>\n",
       "      <th>BAC</th>\n",
       "    </tr>\n",
       "    <tr>\n",
       "      <th>Time</th>\n",
       "      <th></th>\n",
       "      <th></th>\n",
       "    </tr>\n",
       "  </thead>\n",
       "  <tbody>\n",
       "    <tr>\n",
       "      <th>2017-04-19 22:28:05.240</th>\n",
       "      <td>None</td>\n",
       "      <td>0</td>\n",
       "    </tr>\n",
       "    <tr>\n",
       "      <th>2017-04-19 22:28:27.046</th>\n",
       "      <td>Shot</td>\n",
       "      <td>0.0269125</td>\n",
       "    </tr>\n",
       "    <tr>\n",
       "      <th>2017-04-19 22:28:27.049</th>\n",
       "      <td>UFO</td>\n",
       "      <td>0.0539125</td>\n",
       "    </tr>\n",
       "  </tbody>\n",
       "</table>\n",
       "</div>"
      ],
      "text/plain": [
       "                        Drink        BAC\n",
       "Time                                    \n",
       "2017-04-19 22:28:05.240  None          0\n",
       "2017-04-19 22:28:27.046  Shot  0.0269125\n",
       "2017-04-19 22:28:27.049   UFO  0.0539125"
      ]
     },
     "execution_count": 6,
     "metadata": {},
     "output_type": "execute_result"
    }
   ],
   "source": [
    "alex_coda.drink_log"
   ]
  },
  {
   "cell_type": "code",
   "execution_count": null,
   "metadata": {
    "collapsed": true
   },
   "outputs": [],
   "source": []
  }
 ],
 "metadata": {
  "kernelspec": {
   "display_name": "Python 2",
   "language": "python",
   "name": "python2"
  },
  "language_info": {
   "codemirror_mode": {
    "name": "ipython",
    "version": 2
   },
   "file_extension": ".py",
   "mimetype": "text/x-python",
   "name": "python",
   "nbconvert_exporter": "python",
   "pygments_lexer": "ipython2",
   "version": "2.7.13"
  }
 },
 "nbformat": 4,
 "nbformat_minor": 0
}
