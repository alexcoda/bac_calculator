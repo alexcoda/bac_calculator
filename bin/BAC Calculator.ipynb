{
 "cells": [
  {
   "cell_type": "code",
   "execution_count": 1,
   "metadata": {
    "collapsed": true
   },
   "outputs": [],
   "source": [
    "%matplotlib inline\n",
    "\n",
    "import matplotlib.pyplot as plt\n",
    "import numpy as np\n",
    "import pandas as pd\n",
    "from datetime import datetime\n",
    "import numericalunits as nu"
   ]
  },
  {
   "cell_type": "markdown",
   "metadata": {},
   "source": [
    "Wishlist\n",
    "- Person\n",
    "    - Log of all drinks had (pandas object with time and drink)\n",
    "    - Convert bac lookup from a table to some functions (2D over weight and alcohol drank) (also 2 different functions for men and women)\n",
    "    - Change the _decrement_bac function to do this better, maybe from the log rather than having a current_time attribute\n",
    " \n",
    "- Drink\n",
    "    - Implement a derived MixedDrink class\n",
    "    - Implement addition of drinks (returns mixed drink)\n",
    "\n",
    "- Graphs\n",
    "    - Make some graph function which takes a person object and graphs from their log\n",
    "\n",
    "- A drink mapper\n",
    "    - Put in a bac to reach and time you wanna drink over and how long to stay at it\n",
    "\n",
    "\n",
    "\n",
    "Output Wishlist\n",
    "- Server hosting this webpage\n",
    "- Live updating, Selectable characters, selectable drinks/drink history"
   ]
  },
  {
   "cell_type": "code",
   "execution_count": 2,
   "metadata": {
    "collapsed": false
   },
   "outputs": [
    {
     "data": {
      "text/plain": [
       "<module 'bac' from 'bac.pyc'>"
      ]
     },
     "execution_count": 2,
     "metadata": {},
     "output_type": "execute_result"
    }
   ],
   "source": [
    "import bac\n",
    "reload(bac)"
   ]
  },
  {
   "cell_type": "code",
   "execution_count": 3,
   "metadata": {
    "collapsed": true
   },
   "outputs": [],
   "source": [
    "Person = bac.Person\n",
    "Drink = bac.Drink"
   ]
  },
  {
   "cell_type": "code",
   "execution_count": 235,
   "metadata": {
    "collapsed": false,
    "scrolled": true
   },
   "outputs": [],
   "source": [
    "ufo = Drink(\"UFO\", 12, 4.8)\n",
    "busch_heavy = Drink(\"BH\", 40, 4.3)\n",
    "jmh = Drink(\"Jamaican Me Happy\", 12, 3.2)\n",
    "kank_tall = Drink(\"Kank Tall Maple Porter\", 16, 5.6)\n",
    "shot = Drink(\"Shot\", 1.25, 40.0)\n",
    "water = Drink(\"Water\", 12, 0.0)\n",
    "angry = Drink(\"Angry Orchard\", 12, 5.0)\n",
    "downeast = Drink(\"Downeast\", 12, 5.0)\n",
    "rum = Drink(\"Bacardi\", 1.5, 40.0)\n",
    "half_rum = Drink(\"Bacardi\", 0.75, 40.0)\n",
    "sam_adams = Drink(\"Fresh as Helles\", 12, 5.4)"
   ]
  },
  {
   "cell_type": "code",
   "execution_count": null,
   "metadata": {
    "collapsed": true
   },
   "outputs": [],
   "source": [
    "rum + ufo"
   ]
  },
  {
   "cell_type": "markdown",
   "metadata": {},
   "source": [
    "# Keeping track of BAC"
   ]
  },
  {
   "cell_type": "code",
   "execution_count": 222,
   "metadata": {
    "collapsed": true
   },
   "outputs": [],
   "source": [
    "alex_coda = Person(\"Alex Coda\", 23, 140)\n",
    "alex_crist = Person(\"Alex Crist\", 21, 165)\n",
    "noah = Person(\"Noah Johnson\", 21, 120)\n",
    "malcolm = Person(\"Malcolm\", 21, 145)"
   ]
  },
  {
   "cell_type": "code",
   "execution_count": 242,
   "metadata": {
    "collapsed": false
   },
   "outputs": [
    {
     "data": {
      "text/plain": [
       "0.094929166666666676"
      ]
     },
     "execution_count": 242,
     "metadata": {},
     "output_type": "execute_result"
    }
   ],
   "source": [
    "alex_coda.drink(water)\n",
    "alex_coda.bac"
   ]
  },
  {
   "cell_type": "code",
   "execution_count": 241,
   "metadata": {
    "collapsed": false
   },
   "outputs": [
    {
     "data": {
      "text/plain": [
       "0.11464166666666667"
      ]
     },
     "execution_count": 241,
     "metadata": {},
     "output_type": "execute_result"
    }
   ],
   "source": [
    "alex_coda.bac"
   ]
  },
  {
   "cell_type": "code",
   "execution_count": 239,
   "metadata": {
    "collapsed": false
   },
   "outputs": [
    {
     "data": {
      "text/plain": [
       "0.067154166666666681"
      ]
     },
     "execution_count": 239,
     "metadata": {},
     "output_type": "execute_result"
    }
   ],
   "source": [
    "alex_crist.drink(sam_adams)\n",
    "alex_crist.bac"
   ]
  },
  {
   "cell_type": "code",
   "execution_count": null,
   "metadata": {
    "collapsed": true
   },
   "outputs": [],
   "source": [
    "noah.drink()\n",
    "noah.bac"
   ]
  },
  {
   "cell_type": "code",
   "execution_count": 231,
   "metadata": {
    "collapsed": false
   },
   "outputs": [
    {
     "data": {
      "text/plain": [
       "0.041054166666666669"
      ]
     },
     "execution_count": 231,
     "metadata": {},
     "output_type": "execute_result"
    }
   ],
   "source": [
    "malcolm.drink(rum)\n",
    "malcolm.bac"
   ]
  },
  {
   "cell_type": "markdown",
   "metadata": {},
   "source": [
    "## Calculating my BAC over time"
   ]
  },
  {
   "cell_type": "code",
   "execution_count": 207,
   "metadata": {
    "collapsed": false
   },
   "outputs": [],
   "source": [
    "times = [datetime(2017, 4, 8, 21, 19),\n",
    "         datetime(2017, 4, 8, 21, 20),  # 3:30\n",
    "         datetime(2017, 4, 8, 21, 21),  # 4:30\n",
    "         datetime(2017, 4, 8, 21, 22),  # 5:30\n",
    "         datetime(2017, 4, 8, 21, 23),  # 6:30\n",
    "         datetime(2017, 4, 8, 21, 24),  # 6:30\n",
    "         datetime(2017, 4, 8, 21, 25)]  # 9:00\n",
    "drinks = [water, rum, rum, rum, rum, half_rum, water]\n",
    "bac = []"
   ]
  },
  {
   "cell_type": "code",
   "execution_count": 208,
   "metadata": {
    "collapsed": true
   },
   "outputs": [],
   "source": [
    "alex_coda = Person(\"Alex Coda\", 23, 165)\n",
    "alex_coda.current_time = datetime(2017, 4, 8, 20, 30)"
   ]
  },
  {
   "cell_type": "code",
   "execution_count": 209,
   "metadata": {
    "collapsed": false,
    "scrolled": true
   },
   "outputs": [],
   "source": [
    "for d, t in zip(drinks, times):\n",
    "    alex_coda.drink(d, time=t)\n",
    "    alex_coda.current_time = t\n",
    "    bac += [alex_coda.get_bac()]"
   ]
  },
  {
   "cell_type": "code",
   "execution_count": 210,
   "metadata": {
    "collapsed": false
   },
   "outputs": [],
   "source": [
    "ac_timeline = pd.DataFrame(\n",
    "    np.array([times, drinks, bac]).T,\n",
    "    columns = ['Time', 'Drink', 'BAC'])"
   ]
  },
  {
   "cell_type": "code",
   "execution_count": 211,
   "metadata": {
    "collapsed": false
   },
   "outputs": [],
   "source": [
    "ac_timeline['Drink'] = [d.name for d in ac_timeline['Drink']]"
   ]
  },
  {
   "cell_type": "code",
   "execution_count": 212,
   "metadata": {
    "collapsed": false
   },
   "outputs": [],
   "source": [
    "ac_timeline.set_index('Time', inplace=True)"
   ]
  },
  {
   "cell_type": "code",
   "execution_count": 220,
   "metadata": {
    "collapsed": true
   },
   "outputs": [],
   "source": [
    "alex_coda.drink(shot)"
   ]
  },
  {
   "cell_type": "code",
   "execution_count": 221,
   "metadata": {
    "collapsed": false
   },
   "outputs": [
    {
     "data": {
      "text/plain": [
       "0.043895833333333342"
      ]
     },
     "execution_count": 221,
     "metadata": {},
     "output_type": "execute_result"
    }
   ],
   "source": [
    "alex_coda.bac"
   ]
  },
  {
   "cell_type": "code",
   "execution_count": 213,
   "metadata": {
    "collapsed": false
   },
   "outputs": [
    {
     "data": {
      "text/html": [
       "<div>\n",
       "<table border=\"1\" class=\"dataframe\">\n",
       "  <thead>\n",
       "    <tr style=\"text-align: right;\">\n",
       "      <th></th>\n",
       "      <th>Drink</th>\n",
       "      <th>BAC</th>\n",
       "    </tr>\n",
       "    <tr>\n",
       "      <th>Time</th>\n",
       "      <th></th>\n",
       "      <th></th>\n",
       "    </tr>\n",
       "  </thead>\n",
       "  <tbody>\n",
       "    <tr>\n",
       "      <th>2017-04-08 21:19:00</th>\n",
       "      <td>Water</td>\n",
       "      <td>0</td>\n",
       "    </tr>\n",
       "    <tr>\n",
       "      <th>2017-04-08 21:20:00</th>\n",
       "      <td>Bacardi</td>\n",
       "      <td>0.022</td>\n",
       "    </tr>\n",
       "    <tr>\n",
       "      <th>2017-04-08 21:21:00</th>\n",
       "      <td>Bacardi</td>\n",
       "      <td>0.04375</td>\n",
       "    </tr>\n",
       "    <tr>\n",
       "      <th>2017-04-08 21:22:00</th>\n",
       "      <td>Bacardi</td>\n",
       "      <td>0.0655</td>\n",
       "    </tr>\n",
       "    <tr>\n",
       "      <th>2017-04-08 21:23:00</th>\n",
       "      <td>Bacardi</td>\n",
       "      <td>0.08725</td>\n",
       "    </tr>\n",
       "    <tr>\n",
       "      <th>2017-04-08 21:24:00</th>\n",
       "      <td>Bacardi</td>\n",
       "      <td>0.109</td>\n",
       "    </tr>\n",
       "    <tr>\n",
       "      <th>2017-04-08 21:25:00</th>\n",
       "      <td>Water</td>\n",
       "      <td>0.10875</td>\n",
       "    </tr>\n",
       "  </tbody>\n",
       "</table>\n",
       "</div>"
      ],
      "text/plain": [
       "                       Drink      BAC\n",
       "Time                                 \n",
       "2017-04-08 21:19:00    Water        0\n",
       "2017-04-08 21:20:00  Bacardi    0.022\n",
       "2017-04-08 21:21:00  Bacardi  0.04375\n",
       "2017-04-08 21:22:00  Bacardi   0.0655\n",
       "2017-04-08 21:23:00  Bacardi  0.08725\n",
       "2017-04-08 21:24:00  Bacardi    0.109\n",
       "2017-04-08 21:25:00    Water  0.10875"
      ]
     },
     "execution_count": 213,
     "metadata": {},
     "output_type": "execute_result"
    }
   ],
   "source": [
    "ac_timeline"
   ]
  },
  {
   "cell_type": "code",
   "execution_count": 214,
   "metadata": {
    "collapsed": false
   },
   "outputs": [],
   "source": [
    "ac_timeline['BAC']['2017-04-08 21:24:00'] = .1206\n",
    "ac_timeline['BAC']['2017-04-08 21:25:00'] = .1206"
   ]
  },
  {
   "cell_type": "code",
   "execution_count": 215,
   "metadata": {
    "collapsed": false
   },
   "outputs": [
    {
     "data": {
      "text/html": [
       "<div>\n",
       "<table border=\"1\" class=\"dataframe\">\n",
       "  <thead>\n",
       "    <tr style=\"text-align: right;\">\n",
       "      <th></th>\n",
       "      <th>Drink</th>\n",
       "      <th>BAC</th>\n",
       "    </tr>\n",
       "    <tr>\n",
       "      <th>Time</th>\n",
       "      <th></th>\n",
       "      <th></th>\n",
       "    </tr>\n",
       "  </thead>\n",
       "  <tbody>\n",
       "    <tr>\n",
       "      <th>2017-04-08 21:19:00</th>\n",
       "      <td>Water</td>\n",
       "      <td>0</td>\n",
       "    </tr>\n",
       "    <tr>\n",
       "      <th>2017-04-08 21:20:00</th>\n",
       "      <td>Bacardi</td>\n",
       "      <td>0.022</td>\n",
       "    </tr>\n",
       "    <tr>\n",
       "      <th>2017-04-08 21:21:00</th>\n",
       "      <td>Bacardi</td>\n",
       "      <td>0.04375</td>\n",
       "    </tr>\n",
       "    <tr>\n",
       "      <th>2017-04-08 21:22:00</th>\n",
       "      <td>Bacardi</td>\n",
       "      <td>0.0655</td>\n",
       "    </tr>\n",
       "    <tr>\n",
       "      <th>2017-04-08 21:23:00</th>\n",
       "      <td>Bacardi</td>\n",
       "      <td>0.08725</td>\n",
       "    </tr>\n",
       "    <tr>\n",
       "      <th>2017-04-08 21:24:00</th>\n",
       "      <td>Bacardi</td>\n",
       "      <td>0.1206</td>\n",
       "    </tr>\n",
       "    <tr>\n",
       "      <th>2017-04-08 21:25:00</th>\n",
       "      <td>Water</td>\n",
       "      <td>0.1206</td>\n",
       "    </tr>\n",
       "  </tbody>\n",
       "</table>\n",
       "</div>"
      ],
      "text/plain": [
       "                       Drink      BAC\n",
       "Time                                 \n",
       "2017-04-08 21:19:00    Water        0\n",
       "2017-04-08 21:20:00  Bacardi    0.022\n",
       "2017-04-08 21:21:00  Bacardi  0.04375\n",
       "2017-04-08 21:22:00  Bacardi   0.0655\n",
       "2017-04-08 21:23:00  Bacardi  0.08725\n",
       "2017-04-08 21:24:00  Bacardi   0.1206\n",
       "2017-04-08 21:25:00    Water   0.1206"
      ]
     },
     "execution_count": 215,
     "metadata": {},
     "output_type": "execute_result"
    }
   ],
   "source": [
    "ac_timeline"
   ]
  },
  {
   "cell_type": "code",
   "execution_count": 218,
   "metadata": {
    "collapsed": false
   },
   "outputs": [
    {
     "data": {
      "text/plain": [
       "<matplotlib.legend.Legend at 0xc07f278>"
      ]
     },
     "execution_count": 218,
     "metadata": {},
     "output_type": "execute_result"
    },
    {
     "data": {
      "image/png": "[encoded data removed]",
      "text/plain": [
       "<matplotlib.figure.Figure at 0xc07f128>"
      ]
     },
     "metadata": {},
     "output_type": "display_data"
    }
   ],
   "source": [
    "ax = ac_timeline.plot(title='Drunk in 5', style='o-', c='teal')\n",
    "ax.set_xlabel(\"Time\")\n",
    "ax.set_ylabel(\"BAC\")\n",
    "ax.legend(loc='upper left')"
   ]
  },
  {
   "cell_type": "code",
   "execution_count": 188,
   "metadata": {
    "collapsed": true
   },
   "outputs": [],
   "source": [
    "drink_list = [ufo, jmh, shot]"
   ]
  },
  {
   "cell_type": "code",
   "execution_count": 184,
   "metadata": {
    "collapsed": false
   },
   "outputs": [
    {
     "ename": "NameError",
     "evalue": "name 'alcohol_level' is not defined",
     "output_type": "error",
     "traceback": [
      "\u001b[1;31m---------------------------------------------------------------------------\u001b[0m",
      "\u001b[1;31mNameError\u001b[0m                                 Traceback (most recent call last)",
      "\u001b[1;32m<ipython-input-184-61472b464951>\u001b[0m in \u001b[0;36m<module>\u001b[1;34m()\u001b[0m\n\u001b[1;32m----> 1\u001b[1;33m \u001b[0malcohol_level\u001b[0m \u001b[1;33m+=\u001b[0m \u001b[1;33m[\u001b[0m\u001b[1;36m1\u001b[0m\u001b[1;33m]\u001b[0m\u001b[1;33m\u001b[0m\u001b[0m\n\u001b[0m",
      "\u001b[1;31mNameError\u001b[0m: name 'alcohol_level' is not defined"
     ]
    }
   ],
   "source": [
    "alcohol_level += [1]"
   ]
  },
  {
   "cell_type": "code",
   "execution_count": null,
   "metadata": {
    "collapsed": false
   },
   "outputs": [],
   "source": [
    "alcohol_level"
   ]
  },
  {
   "cell_type": "code",
   "execution_count": null,
   "metadata": {
    "collapsed": false
   },
   "outputs": [],
   "source": [
    "alex_coda.bac"
   ]
  },
  {
   "cell_type": "code",
   "execution_count": null,
   "metadata": {
    "collapsed": true
   },
   "outputs": [],
   "source": [
    "alex_coda.drink(shot)"
   ]
  },
  {
   "cell_type": "markdown",
   "metadata": {},
   "source": [
    "## Noah Simulation"
   ]
  },
  {
   "cell_type": "code",
   "execution_count": null,
   "metadata": {
    "collapsed": true
   },
   "outputs": [],
   "source": [
    "times = [datetime(2017, 4, 8, 15, 30),  # 3:30\n",
    "         datetime(2017, 4, 8, 16, 0),   # 4:00\n",
    "         datetime(2017, 4, 8, 17, 0),   # 5:00\n",
    "         datetime(2017, 4, 8, 18, 0),   # 6:00\n",
    "         datetime(2017, 4, 8, 20, 0)]   # 9:00\n",
    "drinks = [angry, angry, angry, angry, water]\n",
    "bac = []"
   ]
  },
  {
   "cell_type": "code",
   "execution_count": null,
   "metadata": {
    "collapsed": true
   },
   "outputs": [],
   "source": [
    "noah = Person(\"Noah Johnson\", 21, 120)\n",
    "noah.current_time = datetime(2017, 4, 8, 15, 30)"
   ]
  },
  {
   "cell_type": "code",
   "execution_count": null,
   "metadata": {
    "collapsed": true
   },
   "outputs": [],
   "source": [
    "for d, t in zip(drinks, times):\n",
    "    noah.drink(d, new_time=t)\n",
    "    noah.current_time = t\n",
    "    bac += [noah.get_bac()]"
   ]
  },
  {
   "cell_type": "code",
   "execution_count": null,
   "metadata": {
    "collapsed": false
   },
   "outputs": [],
   "source": [
    "n_timeline = pd.DataFrame(\n",
    "    np.array([times, drinks, bac]).T,\n",
    "    columns = ['Time', 'Drink', 'BAC'])\n",
    "n_timeline['Drink'] = [d.name for d in n_timeline['Drink']]\n",
    "n_timeline.set_index('Time', inplace=True)"
   ]
  },
  {
   "cell_type": "code",
   "execution_count": null,
   "metadata": {
    "collapsed": false,
    "scrolled": true
   },
   "outputs": [],
   "source": [
    "n_timeline.plot()"
   ]
  },
  {
   "cell_type": "markdown",
   "metadata": {},
   "source": [
    "## Alex Crist "
   ]
  },
  {
   "cell_type": "code",
   "execution_count": null,
   "metadata": {
    "collapsed": true
   },
   "outputs": [],
   "source": [
    "times = [datetime(2017, 4, 8, 15, 50),  # 3:50\n",
    "         datetime(2017, 4, 8, 16, 20),  # 4:20\n",
    "         datetime(2017, 4, 8, 17, 0),   # 5:00\n",
    "         datetime(2017, 4, 8, 18, 0),   # 6:30\n",
    "         datetime(2017, 4, 8, 20, 0),   # 7:00\n",
    "         datetime(2017, 4, 8, 20, 0)]   # 9:00\n",
    "drinks = [downeast, ufo, shot, shot, ufo, water]\n",
    "bac = []"
   ]
  },
  {
   "cell_type": "code",
   "execution_count": null,
   "metadata": {
    "collapsed": true
   },
   "outputs": [],
   "source": [
    "alex_crist = Person(\"Alex Crist\", 21, 120)\n",
    "alex_crist.current_time = datetime(2017, 4, 8, 15, 30)"
   ]
  },
  {
   "cell_type": "code",
   "execution_count": null,
   "metadata": {
    "collapsed": true
   },
   "outputs": [],
   "source": [
    "for d, t in zip(drinks, times):\n",
    "    alex_crist.drink(d, new_time=t)\n",
    "    alex_crist.current_time = t\n",
    "    bac += [alex_crist.get_bac()]"
   ]
  },
  {
   "cell_type": "code",
   "execution_count": null,
   "metadata": {
    "collapsed": true
   },
   "outputs": [],
   "source": [
    "n_timeline = pd.DataFrame(\n",
    "    np.array([times, drinks, bac]).T,\n",
    "    columns = ['Time', 'Drink', 'BAC'])\n",
    "n_timeline['Drink'] = [d.name for d in n_timeline['Drink']]\n",
    "n_timeline.set_index('Time', inplace=True)"
   ]
  },
  {
   "cell_type": "code",
   "execution_count": null,
   "metadata": {
    "collapsed": false
   },
   "outputs": [],
   "source": [
    "n_timeline.plot()"
   ]
  },
  {
   "cell_type": "code",
   "execution_count": null,
   "metadata": {
    "collapsed": true
   },
   "outputs": [],
   "source": []
  }
 ],
 "metadata": {
  "kernelspec": {
   "display_name": "Python 2",
   "language": "python",
   "name": "python2"
  },
  "language_info": {
   "codemirror_mode": {
    "name": "ipython",
    "version": 2
   },
   "file_extension": ".py",
   "mimetype": "text/x-python",
   "name": "python",
   "nbconvert_exporter": "python",
   "pygments_lexer": "ipython2",
   "version": "2.7.13"
  }
 },
 "nbformat": 4,
 "nbformat_minor": 0
}
